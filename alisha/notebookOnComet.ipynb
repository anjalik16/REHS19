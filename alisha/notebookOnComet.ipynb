{
 "cells": [
  {
   "cell_type": "markdown",
   "metadata": {},
   "source": [
    "**How To Run A Jupyter Notebook on Comet**"
   ]
  },
  {
   "cell_type": "markdown",
   "metadata": {},
   "source": [
    "To run a notebook using Comet, make sure you are on a protected network (ex. UCSD-PROTECTED).\n",
    "Go into your directory file that has notebooks that you would like to run. \n",
    "To get an interactive node, use this command..."
   ]
  },
  {
   "cell_type": "code",
   "execution_count": 2,
   "metadata": {},
   "outputs": [
    {
     "name": "stdout",
     "output_type": "stream",
     "text": [
      "/bin/sh: srun: command not found\r\n"
     ]
    }
   ],
   "source": [
    "! srun --pty --nodes=1 --ntasks-per-node=24 -p compute -t 02:00:00 --wait 0 /bin/bash"
   ]
  },
  {
   "cell_type": "markdown",
   "metadata": {},
   "source": [
    "It will say job XXXX has been allocated resources and will give the command line when you have been given a node. In order to run a notebook, you have to load a singularity module, which creates an interactive shell inside the container..."
   ]
  },
  {
   "cell_type": "code",
   "execution_count": 3,
   "metadata": {},
   "outputs": [
    {
     "name": "stdout",
     "output_type": "stream",
     "text": [
      "/bin/sh: module: command not found\r\n"
     ]
    }
   ],
   "source": [
    "! module load singularity "
   ]
  },
  {
   "cell_type": "code",
   "execution_count": 4,
   "metadata": {},
   "outputs": [
    {
     "name": "stdout",
     "output_type": "stream",
     "text": [
      "/bin/sh: module: command not found\r\n"
     ]
    }
   ],
   "source": [
    "! module list #to check if the singularity module has been loaded"
   ]
  },
  {
   "cell_type": "code",
   "execution_count": 5,
   "metadata": {},
   "outputs": [
    {
     "name": "stdout",
     "output_type": "stream",
     "text": [
      "/bin/sh: singularity: command not found\r\n"
     ]
    }
   ],
   "source": [
    "! singularity shell /share/apps/gpu/singularity/sdsc_ubuntu_tf1.1_keras_R.img"
   ]
  },
  {
   "cell_type": "markdown",
   "metadata": {},
   "source": [
    "To get a URL that connect your local browser to an interactive comet session use ..."
   ]
  },
  {
   "cell_type": "code",
   "execution_count": null,
   "metadata": {},
   "outputs": [
    {
     "name": "stdout",
     "output_type": "stream",
     "text": [
      "[TerminalIPythonApp] WARNING | Subcommand `ipython notebook` is deprecated and will be removed in future versions.\n",
      "[TerminalIPythonApp] WARNING | You likely want to use `jupyter notebook` in the future\n",
      "\u001b[32m[I 15:18:51.401 NotebookApp]\u001b[m Loading IPython parallel extension\n",
      "\u001b[32m[I 15:18:51.457 NotebookApp]\u001b[m JupyterLab extension loaded from /Users/alishachakraborty/anaconda3/lib/python3.7/site-packages/jupyterlab\n",
      "\u001b[32m[I 15:18:51.457 NotebookApp]\u001b[m JupyterLab application directory is /Users/alishachakraborty/anaconda3/share/jupyter/lab\n",
      "\u001b[32m[I 15:18:51.459 NotebookApp]\u001b[m Serving notebooks from local directory: /Users/alishachakraborty/Desktop/REHS19_directory/REHS19/alisha\n",
      "\u001b[32m[I 15:18:51.459 NotebookApp]\u001b[m The Jupyter Notebook is running at:\n",
      "\u001b[32m[I 15:18:51.459 NotebookApp]\u001b[m http://Alishas-MacBook-Pro.local:8888/?token=7e7e87f0a806586f2007b9b35cf0fcba7c852609d0e0f587\n",
      "\u001b[32m[I 15:18:51.459 NotebookApp]\u001b[m Use Control-C to stop this server and shut down all kernels (twice to skip confirmation).\n",
      "[C 15:18:51.466 NotebookApp] \n",
      "    \n",
      "    To access the notebook, open this file in a browser:\n",
      "        file:///Users/alishachakraborty/Library/Jupyter/runtime/nbserver-15520-open.html\n",
      "    Or copy and paste one of these URLs:\n",
      "        http://Alishas-MacBook-Pro.local:8888/?token=7e7e87f0a806586f2007b9b35cf0fcba7c852609d0e0f587\n"
     ]
    }
   ],
   "source": [
    "! ipython notebook --no-browser --ip=`/bin/hostname`"
   ]
  },
  {
   "cell_type": "markdown",
   "metadata": {},
   "source": [
    "This will give a http link. Copy and Paste it into your browser and you will be able to run a notebook on Comet!"
   ]
  },
  {
   "cell_type": "markdown",
   "metadata": {},
   "source": [
    "To exit out of a notebook, use control-C\n",
    "\n",
    "To exit out of a node , use control-D\n",
    "\n",
    "To exit out of Comet, use control-D or type exit"
   ]
  }
 ],
 "metadata": {
  "kernelspec": {
   "display_name": "Python 3",
   "language": "python",
   "name": "python3"
  },
  "language_info": {
   "codemirror_mode": {
    "name": "ipython",
    "version": 3
   },
   "file_extension": ".py",
   "mimetype": "text/x-python",
   "name": "python",
   "nbconvert_exporter": "python",
   "pygments_lexer": "ipython3",
   "version": "3.7.3"
  }
 },
 "nbformat": 4,
 "nbformat_minor": 2
}
