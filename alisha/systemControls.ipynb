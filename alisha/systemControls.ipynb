{
 "cells": [
  {
   "cell_type": "markdown",
   "metadata": {},
   "source": [
    "**System Controls for Comet in Terminal(Mac)**"
   ]
  },
  {
   "cell_type": "markdown",
   "metadata": {},
   "source": [
    "This is a tutorial on the usage of terminal commands when using Comet"
   ]
  },
  {
   "cell_type": "markdown",
   "metadata": {},
   "source": [
    "                    Logging On"
   ]
  },
  {
   "cell_type": "markdown",
   "metadata": {},
   "source": [
    "! ssh -l username@comet.sdsc.edu"
   ]
  },
  {
   "cell_type": "markdown",
   "metadata": {},
   "source": [
    "This command creates a secure shell, allowing you to access a computer over an unsecured network. "
   ]
  },
  {
   "cell_type": "markdown",
   "metadata": {},
   "source": [
    "                            Who is on the computer"
   ]
  },
  {
   "cell_type": "code",
   "execution_count": 2,
   "metadata": {},
   "outputs": [
    {
     "name": "stdout",
     "output_type": "stream",
     "text": [
      "alishachakraborty\n"
     ]
    }
   ],
   "source": [
    "! whoami"
   ]
  },
  {
   "cell_type": "markdown",
   "metadata": {},
   "source": [
    "Tells you which account your server is on which can be helpful when switching around between nodes"
   ]
  },
  {
   "cell_type": "code",
   "execution_count": 1,
   "metadata": {},
   "outputs": [
    {
     "name": "stdout",
     "output_type": "stream",
     "text": [
      "Alishas-MacBook-Pro.local\n"
     ]
    }
   ],
   "source": [
    "! hostname"
   ]
  },
  {
   "cell_type": "markdown",
   "metadata": {},
   "source": [
    "Running this command will tell you the domain name. If you run this while on Comet, it will show comet -lnX.sdsc.edu\n",
    "\n",
    "This is helpful when switching nodes on Comet because it will inform you if you are on an interactive node that is used for running notebooks or if you are on a login node, which is given to you when you login to Comet."
   ]
  },
  {
   "cell_type": "markdown",
   "metadata": {},
   "source": [
    "                            Directory Commands"
   ]
  },
  {
   "cell_type": "code",
   "execution_count": 3,
   "metadata": {},
   "outputs": [
    {
     "name": "stdout",
     "output_type": "stream",
     "text": [
      "total 272\n",
      "drwxr-xr-x  24 alishachakraborty  staff    816 Jul 17 10:51 \u001b[34m.\u001b[m\u001b[m\n",
      "drwx------@ 26 alishachakraborty  staff    884 Jul 17 09:59 \u001b[34m..\u001b[m\u001b[m\n",
      "-rw-r--r--@  1 alishachakraborty  staff   6148 Jul 16 11:50 .DS_Store\n",
      "drwxr-xr-x  13 alishachakraborty  staff    442 Jul 17 09:39 \u001b[34m.git\u001b[m\u001b[m\n",
      "drwxr-xr-x  12 alishachakraborty  staff    408 Jul 17 09:15 \u001b[34m.ipynb_checkpoints\u001b[m\u001b[m\n",
      "-rw-r--r--   1 alishachakraborty  staff  10075 Jun 27 09:36 BlackJack-Java.ipynb\n",
      "-rw-r--r--   1 alishachakraborty  staff   5802 Jun 27 11:53 DataFrames.ipynb\n",
      "-rw-r--r--@  1 alishachakraborty  staff   3492 Jun 26 12:01 Distance.ipynb\n",
      "-rw-r--r--   1 alishachakraborty  staff    719 Jun 26 10:02 HelloWorld.ipynb\n",
      "-rw-r--r--   1 alishachakraborty  staff  47903 Jul  3 10:13 PlottingExamples.ipynb\n",
      "-rw-r--r--@  1 alishachakraborty  staff   2754 Jul 16 10:36 SystemControls.html\n",
      "-rw-r--r--   1 alishachakraborty  staff   3296 Jul  2 14:59 Untitled.ipynb\n",
      "-rw-r--r--   1 alishachakraborty  staff     72 Jul 16 11:12 Untitled1.ipynb\n",
      "-rw-r--r--   1 alishachakraborty  staff     59 Jul  3 10:12 Updatedstrings.csv\n",
      "drwxr-xr-x   4 alishachakraborty  staff    136 Jul  2 14:59 \u001b[34m__pycache__\u001b[m\u001b[m\n",
      "drwxr-xr-x   2 alishachakraborty  staff     68 Jul 17 10:51 \u001b[34mdirectory\u001b[m\u001b[m\n",
      "-rw-r--r--   1 alishachakraborty  staff     20 Jul  2 09:46 examples.csv\n",
      "-rw-r--r--@  1 alishachakraborty  staff    152 Jul  2 14:59 helloWorld.py\n",
      "-rw-r--r--   1 alishachakraborty  staff   2600 Jul  3 09:06 modules.ipynb\n",
      "drwxr-xr-x   2 alishachakraborty  staff     68 Jul  2 11:25 \u001b[34mpythonSeries\u001b[m\u001b[m\n",
      "-rw-r--r--   1 alishachakraborty  staff    314 Jul  3 09:48 sample.csv\n",
      "-rw-r--r--   1 alishachakraborty  staff     54 Jul  3 09:38 strings.csv\n",
      "-rw-r--r--@  1 alishachakraborty  staff  10608 Jul 17 10:50 systemControls.ipynb\n",
      "-rw-r--r--   1 alishachakraborty  staff    368 Jul  2 09:51 zoo.csv\n"
     ]
    }
   ],
   "source": [
    "! mkdir directory #1\n",
    "! cd directory/ #2\n",
    "! ls -al #3"
   ]
  },
  {
   "cell_type": "markdown",
   "metadata": {},
   "source": [
    "1) This creates a directory where you can store code or clone github repositories on\n",
    "\n",
    "2) This allows you to go inside the directory to add or create files inside the directory\n",
    "\n",
    "3) This lists all the files inside the directory, including the type, the date, the ownership, and name of directory entry. This command is the most helpful if you want to find a certain directory.\n",
    "\n",
    "Rather than typing the directory name out, a shortcut is to type\n",
    "cd, the first few letters of the directory/file name, and hit tab on your keyboard. This will automatically put the file name on the command line "
   ]
  },
  {
   "cell_type": "code",
   "execution_count": 4,
   "metadata": {},
   "outputs": [],
   "source": [
    "! cd directory\n",
    "! cd ../"
   ]
  },
  {
   "cell_type": "markdown",
   "metadata": {},
   "source": [
    "To get out of a file or a directory\n",
    "The command ../ can be put multiple times depending on the directory hiearchy.\n",
    "For example, if I created a file in a directory on my login node, the default setting when logging into comet, and I wanted to go back to my login node I would use..."
   ]
  },
  {
   "cell_type": "code",
   "execution_count": 5,
   "metadata": {},
   "outputs": [
    {
     "name": "stdout",
     "output_type": "stream",
     "text": [
      "/bin/sh: cd../../: No such file or directory\n"
     ]
    }
   ],
   "source": [
    "! cd../../"
   ]
  },
  {
   "cell_type": "markdown",
   "metadata": {},
   "source": [
    "The first ../ gets me out of the file in the directory\n",
    "The second ../ gets me out of the directory on the login node"
   ]
  },
  {
   "cell_type": "markdown",
   "metadata": {},
   "source": [
    "                                    Modules"
   ]
  },
  {
   "cell_type": "markdown",
   "metadata": {},
   "source": [
    "Environment Modules allows for a dynamic modification of the users environment with modulefiles. This basically means that users are able to  change environment variables, compilers, and libraries in order to improve performance"
   ]
  },
  {
   "cell_type": "code",
   "execution_count": null,
   "metadata": {},
   "outputs": [
    {
     "name": "stdout",
     "output_type": "stream",
     "text": [
      "/bin/sh: module: command not found\n",
      "/bin/sh: module: command not found\n",
      "/bin/sh: module: command not found\n"
     ]
    }
   ],
   "source": [
    "! module list #1\n",
    "! module avail #2\n",
    "! module purge #3"
   ]
  },
  {
   "cell_type": "markdown",
   "metadata": {},
   "source": [
    "1) This lists the modules that are loaded in your environment. If you have not added any modules, then executing this command should say No ModuleFiles Currently Loaded. \n",
    "\n",
    "2) This lists the avaliable modules\n",
    "\n",
    "3) This deletes all the loaded modules in your environment"
   ]
  },
  {
   "cell_type": "markdown",
   "metadata": {},
   "source": [
    "Follow these steps to create environment modules used to run Comet..."
   ]
  },
  {
   "cell_type": "code",
   "execution_count": null,
   "metadata": {},
   "outputs": [
    {
     "name": "stdout",
     "output_type": "stream",
     "text": [
      "/bin/sh: module: command not found\n",
      "/bin/sh: module: command not found\n",
      "/bin/sh: module: command not found\n",
      "/bin/sh: module: command not found\n"
     ]
    }
   ],
   "source": [
    "! module load gnutools\n",
    "! module load intel\n",
    "! module load mvapich2_ib\n",
    "! module list"
   ]
  },
  {
   "cell_type": "markdown",
   "metadata": {},
   "source": [
    "These three environment modules are the basic modules needed to run a notebook on Comet. The intel compilers are suggested when using Comet. To make sure that the modules are loaded, execute module list. All three modules should show up"
   ]
  },
  {
   "cell_type": "code",
   "execution_count": null,
   "metadata": {},
   "outputs": [],
   "source": [
    "#!/bin/bash"
   ]
  },
  {
   "cell_type": "markdown",
   "metadata": {},
   "source": [
    "This can be the first line of the module scripts. This mean that the scripts should be run in bash. This can also be used when creating a bash script by putting this at the top of the script"
   ]
  },
  {
   "cell_type": "markdown",
   "metadata": {},
   "source": [
    "If there is a module: command not found when running a module in a batch job or switching between shells use..."
   ]
  },
  {
   "cell_type": "code",
   "execution_count": null,
   "metadata": {},
   "outputs": [
    {
     "name": "stdout",
     "output_type": "stream",
     "text": [
      "/bin/sh: /etc/profile.d/modules.sh: No such file or directory\n"
     ]
    }
   ],
   "source": [
    "! source /etc/profile.d/modules.sh "
   ]
  }
 ],
 "metadata": {
  "kernelspec": {
   "display_name": "Python 3",
   "language": "python",
   "name": "python3"
  },
  "language_info": {
   "codemirror_mode": {
    "name": "ipython",
    "version": 3
   },
   "file_extension": ".py",
   "mimetype": "text/x-python",
   "name": "python",
   "nbconvert_exporter": "python",
   "pygments_lexer": "ipython3",
   "version": "3.7.3"
  }
 },
 "nbformat": 4,
 "nbformat_minor": 2
}
