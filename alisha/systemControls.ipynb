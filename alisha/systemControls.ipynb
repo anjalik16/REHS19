{
 "cells": [
  {
   "cell_type": "markdown",
   "metadata": {},
   "source": [
    "**System Controls for Comet in Terminal(Mac)**"
   ]
  },
  {
   "cell_type": "markdown",
   "metadata": {},
   "source": [
    "                     This is a tutorial on the usage of terminal commands when using Comet"
   ]
  },
  {
   "cell_type": "markdown",
   "metadata": {},
   "source": [
    "                    Logging On"
   ]
  },
  {
   "cell_type": "markdown",
   "metadata": {},
   "source": [
    "! ssh -l username@comet.sdsc.edu"
   ]
  },
  {
   "cell_type": "markdown",
   "metadata": {},
   "source": [
    "This command creates a secure shell, allowing you to access a computer over an unsecured network. "
   ]
  },
  {
   "cell_type": "markdown",
   "metadata": {},
   "source": [
    "                            Who is on the computer"
   ]
  },
  {
   "cell_type": "code",
   "execution_count": 2,
   "metadata": {},
   "outputs": [
    {
     "name": "stdout",
     "output_type": "stream",
     "text": [
      "alishachakraborty\r\n"
     ]
    }
   ],
   "source": [
    "! whoami"
   ]
  },
  {
   "cell_type": "markdown",
   "metadata": {},
   "source": [
    "Tells you which account your server is on which can be helpful when switching around between nodes"
   ]
  },
  {
   "cell_type": "markdown",
   "metadata": {},
   "source": [
    "                            Directory Commands"
   ]
  },
  {
   "cell_type": "code",
   "execution_count": 3,
   "metadata": {},
   "outputs": [
    {
     "name": "stdout",
     "output_type": "stream",
     "text": [
      "total 272\r\n",
      "drwxr-xr-x  24 alishachakraborty  staff    816 Jul 17 10:51 \u001b[34m.\u001b[m\u001b[m\r\n",
      "drwx------@ 26 alishachakraborty  staff    884 Jul 17 09:59 \u001b[34m..\u001b[m\u001b[m\r\n",
      "-rw-r--r--@  1 alishachakraborty  staff   6148 Jul 16 11:50 .DS_Store\r\n",
      "drwxr-xr-x  13 alishachakraborty  staff    442 Jul 17 09:39 \u001b[34m.git\u001b[m\u001b[m\r\n",
      "drwxr-xr-x  12 alishachakraborty  staff    408 Jul 17 09:15 \u001b[34m.ipynb_checkpoints\u001b[m\u001b[m\r\n",
      "-rw-r--r--   1 alishachakraborty  staff  10075 Jun 27 09:36 BlackJack-Java.ipynb\r\n",
      "-rw-r--r--   1 alishachakraborty  staff   5802 Jun 27 11:53 DataFrames.ipynb\r\n",
      "-rw-r--r--@  1 alishachakraborty  staff   3492 Jun 26 12:01 Distance.ipynb\r\n",
      "-rw-r--r--   1 alishachakraborty  staff    719 Jun 26 10:02 HelloWorld.ipynb\r\n",
      "-rw-r--r--   1 alishachakraborty  staff  47903 Jul  3 10:13 PlottingExamples.ipynb\r\n",
      "-rw-r--r--@  1 alishachakraborty  staff   2754 Jul 16 10:36 SystemControls.html\r\n",
      "-rw-r--r--   1 alishachakraborty  staff   3296 Jul  2 14:59 Untitled.ipynb\r\n",
      "-rw-r--r--   1 alishachakraborty  staff     72 Jul 16 11:12 Untitled1.ipynb\r\n",
      "-rw-r--r--   1 alishachakraborty  staff     59 Jul  3 10:12 Updatedstrings.csv\r\n",
      "drwxr-xr-x   4 alishachakraborty  staff    136 Jul  2 14:59 \u001b[34m__pycache__\u001b[m\u001b[m\r\n",
      "drwxr-xr-x   2 alishachakraborty  staff     68 Jul 17 10:51 \u001b[34mdirectory\u001b[m\u001b[m\r\n",
      "-rw-r--r--   1 alishachakraborty  staff     20 Jul  2 09:46 examples.csv\r\n",
      "-rw-r--r--@  1 alishachakraborty  staff    152 Jul  2 14:59 helloWorld.py\r\n",
      "-rw-r--r--   1 alishachakraborty  staff   2600 Jul  3 09:06 modules.ipynb\r\n",
      "drwxr-xr-x   2 alishachakraborty  staff     68 Jul  2 11:25 \u001b[34mpythonSeries\u001b[m\u001b[m\r\n",
      "-rw-r--r--   1 alishachakraborty  staff    314 Jul  3 09:48 sample.csv\r\n",
      "-rw-r--r--   1 alishachakraborty  staff     54 Jul  3 09:38 strings.csv\r\n",
      "-rw-r--r--@  1 alishachakraborty  staff  10608 Jul 17 10:50 systemControls.ipynb\r\n",
      "-rw-r--r--   1 alishachakraborty  staff    368 Jul  2 09:51 zoo.csv\r\n"
     ]
    }
   ],
   "source": [
    "! mkdir directory #1\n",
    "! cd directory/ #2\n",
    "! ls -al #3"
   ]
  },
  {
   "cell_type": "markdown",
   "metadata": {},
   "source": [
    "1) This creates a directory where you can store code or clone github repositories on\n",
    "\n",
    "2) This allows you to go inside the directory to add or create files inside the directory\n",
    "\n",
    "3) This lists all the files inside the directory, including the type, the date, the ownership, and name of directory entry\n",
    "\n",
    "Rather than typing the directory name out, a shortcut is to type\n",
    "cd, the first few letters of the directory/file name, and hit tab on your keyboard. This will automatically put the file name on the command line "
   ]
  },
  {
   "cell_type": "code",
   "execution_count": 4,
   "metadata": {},
   "outputs": [],
   "source": [
    "! cd directory\n",
    "! cd ../"
   ]
  },
  {
   "cell_type": "markdown",
   "metadata": {},
   "source": [
    "To get out of a file or a directory\n",
    "The command ../ can be put multiple times depending on the directory hiearchy.\n",
    "For example, if I created a file in a directory on my login node, the default setting when logging into comet, and I wanted to go back to my login node I would use..."
   ]
  },
  {
   "cell_type": "code",
   "execution_count": 5,
   "metadata": {},
   "outputs": [
    {
     "name": "stdout",
     "output_type": "stream",
     "text": [
      "/bin/sh: cd../../: No such file or directory\r\n"
     ]
    }
   ],
   "source": [
    "! cd../../"
   ]
  },
  {
   "cell_type": "markdown",
   "metadata": {},
   "source": [
    "The first ../ gets me out of the file in the directory\n",
    "The second ../ gets me out of the directory on the login node"
   ]
  },
  {
   "cell_type": "markdown",
   "metadata": {},
   "source": [
    "                                    Modules"
   ]
  },
  {
   "cell_type": "markdown",
   "metadata": {},
   "source": [
    "Environment Modules allows for a dynamic modification of the users environment with modulefiles. This basically means that users are able to  change environment variables, compilers, and libraries in order to improve performance"
   ]
  },
  {
   "cell_type": "code",
   "execution_count": null,
   "metadata": {},
   "outputs": [
    {
     "name": "stdout",
     "output_type": "stream",
     "text": [
      "/bin/sh: module: command not found\n",
      "/bin/sh: module: command not found\n",
      "/bin/sh: module: command not found\n"
     ]
    }
   ],
   "source": [
    "! module list #1\n",
    "! module avail #2\n",
    "! module purge #3"
   ]
  },
  {
   "cell_type": "markdown",
   "metadata": {},
   "source": [
    "1) This lists the modules that are loaded in your environment. If you have not added any modules, then executing this command should say No ModuleFiles Currently Loaded. \n",
    "\n",
    "2) This lists the avaliable modules\n",
    "\n",
    "3) This deletes all the loaded modules in your environment"
   ]
  },
  {
   "cell_type": "markdown",
   "metadata": {},
   "source": [
    "Follow these steps to create environment modules used to run Comet..."
   ]
  },
  {
   "cell_type": "code",
   "execution_count": null,
   "metadata": {},
   "outputs": [
    {
     "name": "stdout",
     "output_type": "stream",
     "text": [
      "/bin/sh: module: command not found\n",
      "/bin/sh: module: command not found\n",
      "/bin/sh: module: command not found\n",
      "/bin/sh: module: command not found\n"
     ]
    }
   ],
   "source": [
    "! module load gnutools\n",
    "! module load intel\n",
    "! module load mvapich2_ib\n",
    "! module list"
   ]
  },
  {
   "cell_type": "markdown",
   "metadata": {},
   "source": [
    "These three environment modules are the basic modules needed to run a notebook on Comet. The intel compilers are suggested when using Comet. To make sure that the modules are loaded, execute module list. All three modules should show up"
   ]
  },
  {
   "cell_type": "code",
   "execution_count": null,
   "metadata": {},
   "outputs": [],
   "source": [
    "#!/bin/bash"
   ]
  },
  {
   "cell_type": "markdown",
   "metadata": {},
   "source": [
    "This can be the first line of the module scripts. This mean that the scripts should be run in bash. This can also be used when creating a bash script by putting this at the top of the script"
   ]
  },
  {
   "cell_type": "markdown",
   "metadata": {},
   "source": [
    "If there is a module: command not found when running a module in a batch job or switching between shells use..."
   ]
  },
  {
   "cell_type": "code",
   "execution_count": null,
   "metadata": {},
   "outputs": [
    {
     "name": "stdout",
     "output_type": "stream",
     "text": [
      "/bin/sh: /etc/profile.d/modules.sh: No such file or directory\r\n"
     ]
    }
   ],
   "source": [
    "! source /etc/profile.d/modules.sh "
   ]
  },
  {
   "cell_type": "markdown",
   "metadata": {},
   "source": [
    "    Running a Notebook Inside Comet"
   ]
  },
  {
   "cell_type": "markdown",
   "metadata": {},
   "source": [
    "To run a notebook using Comet, make sure you are on a protected network (ex. UCSD-PROTECTED).\n",
    "Go into your directory file that has notebooks that you would like to run. \n",
    "To get an interactive node, use this command..."
   ]
  },
  {
   "cell_type": "code",
   "execution_count": null,
   "metadata": {},
   "outputs": [
    {
     "name": "stdout",
     "output_type": "stream",
     "text": [
      "/bin/sh: srun: command not found\r\n"
     ]
    }
   ],
   "source": [
    "! srun --pty --nodes=1 --ntasks-per-node=24 -p compute -t 02:00:00 --wait 0 /bin/bash"
   ]
  },
  {
   "cell_type": "markdown",
   "metadata": {},
   "source": [
    "It will say job XXXX has been allocated resources and will give the command line when you have been given a node. In order to run a notebook, you have to load a singularity module, which creates an interactive shell inside the container..."
   ]
  },
  {
   "cell_type": "code",
   "execution_count": null,
   "metadata": {},
   "outputs": [
    {
     "name": "stdout",
     "output_type": "stream",
     "text": [
      "/bin/sh: module: command not found\r\n"
     ]
    }
   ],
   "source": [
    "! module load singularity"
   ]
  },
  {
   "cell_type": "code",
   "execution_count": null,
   "metadata": {},
   "outputs": [
    {
     "name": "stdout",
     "output_type": "stream",
     "text": [
      "/bin/sh: singularity: command not found\r\n"
     ]
    }
   ],
   "source": [
    "! singularity shell /share/apps/gpu/singularity/sdsc_ubuntu_tf1.1_keras_R.img"
   ]
  },
  {
   "cell_type": "markdown",
   "metadata": {},
   "source": [
    "To get a URL that connect your local browser to an interactive comet session use ..."
   ]
  },
  {
   "cell_type": "code",
   "execution_count": null,
   "metadata": {},
   "outputs": [
    {
     "name": "stdout",
     "output_type": "stream",
     "text": [
      "[TerminalIPythonApp] WARNING | Subcommand `ipython notebook` is deprecated and will be removed in future versions.\n",
      "[TerminalIPythonApp] WARNING | You likely want to use `jupyter notebook` in the future\n",
      "\u001b[32m[I 10:51:05.344 NotebookApp]\u001b[m JupyterLab extension loaded from /Users/alishachakraborty/anaconda3/lib/python3.7/site-packages/jupyterlab\n",
      "\u001b[32m[I 10:51:05.344 NotebookApp]\u001b[m JupyterLab application directory is /Users/alishachakraborty/anaconda3/share/jupyter/lab\n",
      "\u001b[32m[I 10:51:05.347 NotebookApp]\u001b[m Serving notebooks from local directory: /Users/alishachakraborty/Desktop/Jupyter Notebook\n",
      "\u001b[32m[I 10:51:05.347 NotebookApp]\u001b[m The Jupyter Notebook is running at:\n",
      "\u001b[32m[I 10:51:05.347 NotebookApp]\u001b[m http://Alishas-MacBook-Pro.local:8888/?token=b27dd939084fb4f440c105a10658d2511635ab8e7ec7200c\n",
      "\u001b[32m[I 10:51:05.347 NotebookApp]\u001b[m Use Control-C to stop this server and shut down all kernels (twice to skip confirmation).\n",
      "[C 10:51:05.356 NotebookApp] \n",
      "    \n",
      "    To access the notebook, open this file in a browser:\n",
      "        file:///Users/alishachakraborty/Library/Jupyter/runtime/nbserver-22039-open.html\n",
      "    Or copy and paste one of these URLs:\n",
      "        http://Alishas-MacBook-Pro.local:8888/?token=b27dd939084fb4f440c105a10658d2511635ab8e7ec7200c\n"
     ]
    }
   ],
   "source": [
    "! ipython notebook --no-browser --ip=`/bin/hostname`"
   ]
  },
  {
   "cell_type": "markdown",
   "metadata": {},
   "source": [
    "This will give a http link. Copy and Paste it into your browser and you will be able to run a notebook on Comet!"
   ]
  },
  {
   "cell_type": "markdown",
   "metadata": {},
   "source": [
    "To exit out of a notebook, use control-C\n",
    "\n",
    "To exit out of a node , use control-D\n",
    "\n",
    "To exit out of Comet, use control-D or type exit"
   ]
  }
 ],
 "metadata": {
  "kernelspec": {
   "display_name": "Python 3",
   "language": "python",
   "name": "python3"
  },
  "language_info": {
   "codemirror_mode": {
    "name": "ipython",
    "version": 3
   },
   "file_extension": ".py",
   "mimetype": "text/x-python",
   "name": "python",
   "nbconvert_exporter": "python",
   "pygments_lexer": "ipython3",
   "version": "3.7.3"
  }
 },
 "nbformat": 4,
 "nbformat_minor": 2
}
