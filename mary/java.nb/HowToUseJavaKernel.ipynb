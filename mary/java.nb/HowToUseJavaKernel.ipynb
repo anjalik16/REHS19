{
 "cells": [
  {
   "cell_type": "markdown",
   "metadata": {},
   "source": [
    "Using java kernel inside Jupyter Notebook. Reference:\n",
    "https://github.com/SpencerPark/IJava\n",
    "Steps:\n",
    "\n",
    "* to install prebuilt binary file follow instructions here:\n",
    "  * https://github.com/SpencerPark/IJava#install-pre-built-binary\n",
    "* create an install dir. I used /tmp/java; \n",
    "  * cd into that directory \n",
    "* download zip file from here:\n",
    "  * https://github.com/SpencerPark/IJava/releases\n",
    "  * i used the ijava-1.3.0.zip\n",
    "* unzip and cd into /tmp/java/ijava-1.3.0\n",
    "* run \n",
    "```\n",
    "python3 install.py --sys-prefix\n",
    "```\n",
    "* Check that it installed using command below,  which should contain java\n",
    "\n",
    "```\n",
    "jupyter kernelspec list\n",
    "(base) [sdsc@wireless-169-228-93-123:~/work/java.nb] jupyter kernelspec list\n",
    "Available kernels:\n",
    "  java       /Users/sdsc/anaconda3/share/jupyter/kernels/java\n",
    "  python3    /Users/sdsc/anaconda3/share/jupyter/kernels/python3\n",
    "(base) [sdsc@wireless-169-228-93-123:~/work/java.nb] \n",
    "```\n",
    "\n",
    "* Test installation by running the java kernel in standalone mode:\n",
    "\n",
    "```\n",
    "jupyter console --kernel=java\n",
    "(base) [sdsc@wireless-169-228-93-123:~/work/java.nb] jupyter console --kernel=java\n",
    "Jun 18, 2019 2:03:49 PM io.github.spencerpark.jupyter.channels.Loop start\n",
    "INFO: Loop starting...\n",
    "Jun 18, 2019 2:03:49 PM io.github.spencerpark.jupyter.channels.Loop start\n",
    "INFO: Loop started.\n",
    "Jun 18, 2019 2:03:49 PM io.github.spencerpark.jupyter.channels.Loop start\n",
    "INFO: Loop starting...\n",
    "Jun 18, 2019 2:03:49 PM io.github.spencerpark.jupyter.channels.Loop start\n",
    "INFO: Loop started.\n",
    "Jun 18, 2019 2:03:49 PM io.github.spencerpark.jupyter.channels.Loop start\n",
    "INFO: Loop starting...\n",
    "Jun 18, 2019 2:03:49 PM io.github.spencerpark.jupyter.channels.Loop start\n",
    "INFO: Loop started.\n",
    "Jupyter console 6.0.0\n",
    "\n",
    "Java 12.0.1+12 :: IJava kernel 1.3.0 \n",
    "Protocol v5.3 implementation by jupyter-jvm-basekernel 2.3.0\n",
    "```\n",
    "Now try some java code:\n",
    "```\n",
    "In [1]: System.out.println(\"Hello World!\");                                                        \n",
    "Hello World!\n",
    "\n",
    "```\n",
    "output shows that the java kernel is working\n",
    "\n",
    "* When this is done, you can fire up a Java based Jupyter Notebook:\n",
    "```\n",
    "jupyter notebook &\n",
    "```\n",
    "* Launch a new notebook and set it to use java by selecting it from the \"New\" pull down menu.\n",
    "  * try entering some simple java\n",
    "* For more java code examples, see:\n",
    "  * https://www.cs.utexas.edu/~scottm/cs307/codingSamples.htm\n",
    "  "
   ]
  },
  {
   "cell_type": "code",
   "execution_count": 1,
   "metadata": {},
   "outputs": [
    {
     "name": "stdout",
     "output_type": "stream",
     "text": [
      "Hello World!\n"
     ]
    }
   ],
   "source": [
    "System.out.println(\"Hello World!\");"
   ]
  },
  {
   "cell_type": "code",
   "execution_count": null,
   "metadata": {},
   "outputs": [],
   "source": []
  }
 ],
 "metadata": {
  "kernelspec": {
   "display_name": "Java",
   "language": "java",
   "name": "java"
  },
  "language_info": {
   "codemirror_mode": "java",
   "file_extension": ".jshell",
   "mimetype": "text/x-java-source",
   "name": "Java",
   "pygments_lexer": "java",
   "version": "12.0.1+12"
  }
 },
 "nbformat": 4,
 "nbformat_minor": 2
}
