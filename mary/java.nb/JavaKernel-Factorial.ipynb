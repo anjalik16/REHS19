{
 "cells": [
  {
   "cell_type": "markdown",
   "metadata": {},
   "source": [
    "Using java kernel inside Jupyter Notebook. Reference:\n",
    "\n",
    "* Launch this notebook and set it to use java by selecting it from the \"New\" pull down menu.\n",
    "* Some good Java example code:\n",
    "  * https://www.cs.utexas.edu/~scottm/cs307/codingSamples.htm\n",
    "* Factorial Java Code example is from https://www.cs.utexas.edu/~scottm/cs307/javacode/codeSamples/Factorial.java\n",
    "  "
   ]
  },
  {
   "cell_type": "code",
   "execution_count": 1,
   "metadata": {},
   "outputs": [],
   "source": [
    "public static int factorial(int n)\n",
    "\t{\tint result = 1;\n",
    "\t\tfor(int i = 2; i <= n; i++)\n",
    "\t\t\tresult *= i;\n",
    "\t\treturn result;\n",
    "\t}"
   ]
  },
  {
   "cell_type": "code",
   "execution_count": 2,
   "metadata": {},
   "outputs": [
    {
     "name": "stdout",
     "output_type": "stream",
     "text": [
      "NUM_FACTS= 10\n"
     ]
    }
   ],
   "source": [
    "final int NUM_FACTS = 10;\n",
    "System.out.println(\"NUM_FACTS= \"+NUM_FACTS);"
   ]
  },
  {
   "cell_type": "code",
   "execution_count": 3,
   "metadata": {},
   "outputs": [
    {
     "name": "stdout",
     "output_type": "stream",
     "text": [
      "0! is 1\n",
      "1! is 1\n",
      "2! is 2\n",
      "3! is 6\n",
      "4! is 24\n",
      "5! is 120\n",
      "6! is 720\n",
      "7! is 5040\n",
      "8! is 40320\n",
      "9! is 362880\n"
     ]
    }
   ],
   "source": [
    "for(int i = 0; i < NUM_FACTS; i++)\n",
    "\t\t\tSystem.out.println( i + \"! is \" + factorial(i));"
   ]
  },
  {
   "cell_type": "markdown",
   "metadata": {},
   "source": []
  }
 ],
 "metadata": {
  "kernelspec": {
   "display_name": "Java",
   "language": "java",
   "name": "java"
  },
  "language_info": {
   "codemirror_mode": "java",
   "file_extension": ".jshell",
   "mimetype": "text/x-java-source",
   "name": "Java",
   "pygments_lexer": "java",
   "version": "12.0.1+12"
  }
 },
 "nbformat": 4,
 "nbformat_minor": 2
}
