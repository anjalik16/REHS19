{
 "cells": [
  {
   "cell_type": "code",
   "execution_count": 18,
   "metadata": {},
   "outputs": [],
   "source": [
    "import random\n",
    "def getAnswer(answerNumber):\n",
    "       ###print(answerNumber)\n",
    "\n",
    "       if answerNumber == 1:\n",
    "           return 'It is certain'\n",
    "       elif answerNumber == 2:\n",
    "           return 'It is decidedly so'\n",
    "       elif answerNumber == 3:\n",
    "           return 'Yes'\n",
    "       elif answerNumber == 4:\n",
    "           return 'Reply hazy try again'\n",
    "       elif answerNumber == 5:\n",
    "           return 'Ask again later'\n",
    "       elif answerNumber == 6:\n",
    "           return 'Concentrate and ask again'\n",
    "       elif answerNumber == 7:\n",
    "           return 'My reply is no'\n",
    "       elif answerNumber == 8:\n",
    "           return 'Outlook not so good'\n",
    "       elif answerNumber == 9:\n",
    "           return 'Very doubtful'"
   ]
  },
  {
   "cell_type": "code",
   "execution_count": 19,
   "metadata": {},
   "outputs": [
    {
     "name": "stdout",
     "output_type": "stream",
     "text": [
      "7\n"
     ]
    }
   ],
   "source": [
    "r = random.randint(1, 15)\n",
    "print(r)\n"
   ]
  },
  {
   "cell_type": "code",
   "execution_count": 20,
   "metadata": {},
   "outputs": [
    {
     "name": "stdout",
     "output_type": "stream",
     "text": [
      "My reply is no\n"
     ]
    }
   ],
   "source": [
    "fortune = getAnswer(r)\n",
    "print(fortune)"
   ]
  },
  {
   "cell_type": "code",
   "execution_count": null,
   "metadata": {},
   "outputs": [],
   "source": []
  }
 ],
 "metadata": {
  "kernelspec": {
   "display_name": "Python 3",
   "language": "python",
   "name": "python3"
  },
  "language_info": {
   "codemirror_mode": {
    "name": "ipython",
    "version": 3
   },
   "file_extension": ".py",
   "mimetype": "text/x-python",
   "name": "python",
   "nbconvert_exporter": "python",
   "pygments_lexer": "ipython3",
   "version": "3.7.3"
  }
 },
 "nbformat": 4,
 "nbformat_minor": 2
}
